{
 "cells": [
  {
   "cell_type": "code",
   "execution_count": 1,
   "metadata": {
    "collapsed": false
   },
   "outputs": [
    {
     "data": {
      "application/javascript": [
       "if($(IPython.toolbar.selector.concat(' > #kill-run-all')).length == 0){\n",
       "  IPython.toolbar.add_buttons_group([\n",
       "        {\n",
       "             'label'   : 'kill and run-all',\n",
       "             'icon'    : 'fa fa-angle-double-down',\n",
       "             'callback': function(){\n",
       "                 IPython.notebook.kernel.restart();\n",
       "                 $(IPython.events).one('kernel_ready.Kernel',\n",
       "                                       function(){IPython.notebook.execute_all_cells();});\n",
       "             }\n",
       "        }\n",
       "    ], 'kill-run-all');\n",
       "}"
      ],
      "text/plain": [
       "<IPython.core.display.Javascript object>"
      ]
     },
     "metadata": {},
     "output_type": "display_data"
    }
   ],
   "source": [
    "%%javascript\n",
    "if($(IPython.toolbar.selector.concat(' > #kill-run-all')).length == 0){\n",
    "  IPython.toolbar.add_buttons_group([\n",
    "        {\n",
    "             'label'   : 'kill and run-all',\n",
    "             'icon'    : 'fa fa-angle-double-down',\n",
    "             'callback': function(){\n",
    "                 IPython.notebook.kernel.restart();\n",
    "                 $(IPython.events).one('kernel_ready.Kernel',\n",
    "                                       function(){IPython.notebook.execute_all_cells();});\n",
    "             }\n",
    "        }\n",
    "    ], 'kill-run-all');\n",
    "}"
   ]
  },
  {
   "cell_type": "code",
   "execution_count": null,
   "metadata": {
    "collapsed": false,
    "scrolled": false
   },
   "outputs": [],
   "source": [
    "# import seaborn as sns\n",
    "import matplotlib.pyplot as plt\n",
    "from foof.util import create_psd\n",
    "%matplotlib inline"
   ]
  },
  {
   "cell_type": "code",
   "execution_count": null,
   "metadata": {
    "collapsed": false,
    "scrolled": true
   },
   "outputs": [
    {
     "name": "stdout",
     "output_type": "stream",
     "text": [
      "Trial 0\n",
      "Starting simulation for duration 0.5 s\n",
      "82.26 ms (16%) simulated in 10s, estimated 51s remaining.\n",
      "163.95 ms (32%) simulated in 20s, estimated 41s remaining.\n",
      "250.79 ms (50%) simulated in 30s, estimated 30s remaining.\n",
      "0.32769 s (65%) simulated in 40s, estimated 21s remaining.\n",
      "0.41397 s (82%) simulated in 50s, estimated 10s remaining.\n",
      "0.5 s (100%) simulated in 1m 0s\n",
      "Saving results\n",
      "Trial 1\n",
      "Starting simulation for duration 0.5 s\n",
      "40.965 ms (8%) simulated in 10s, estimated 1m 53s remaining.\n"
     ]
    }
   ],
   "source": [
    "# stim induced\n",
    "%run ../bin/ei.py ../data/test/ \\\n",
    "    -t 10 --stim 0.25 --rate 30 --period 0.5 \\\n",
    "    --I_e 0.1 --I_i 0.8 --I_i_sigma 0.0 --I_e_sigma 0.0 \\\n",
    "    --w_e 0.5 --w_ee 0.1 --w_ii 0.5 \\\n",
    "    --w_ei .3 --w_ie 1.2 --stdp"
   ]
  },
  {
   "cell_type": "code",
   "execution_count": null,
   "metadata": {
    "collapsed": false,
    "scrolled": false
   },
   "outputs": [],
   "source": [
    "# To plot\n",
    "trial = 19\n",
    "period = 0.5\n",
    "t_min = period * trial\n",
    "t_max = t_min + period\n",
    "\n",
    "# Unpack\n",
    "spikes_e = result['spikes_e']\n",
    "spikes_stim = result['spikes_stim']\n",
    "spikes_i = result['spikes_i']\n",
    "pop_e = result['pop_e']\n",
    "pop_stim = result['pop_stim']\n",
    "traces_e = result['traces_e']\n",
    "traces_i = result['traces_i']\n",
    "weights = result['weights_e']\n",
    "\n",
    "t = 2000\n",
    "\n",
    "# ------------------------------------------------------------\n",
    "# Raster full\n",
    "figure(figsize=(14, 12))\n",
    "subplot(311)\n",
    "plot(spikes_stim.t/ms, spikes_stim.i, 'o', label='', color='k')\n",
    "xlim(t_min * 1000, t_max * 1000)\n",
    "ylabel(\"Neuron #\")\n",
    "legend()\n",
    "\n",
    "subplot(312)\n",
    "plot(spikes_e.t/ms, spikes_e.i, 'o', label='E', color='k')\n",
    "plot(spikes_i.t/ms, spikes_i.i, 'o', label='I', color='r')\n",
    "xlim(t_min * 1000, t_max * 1000)\n",
    "ylabel(\"Neuron #\")\n",
    "legend()\n",
    "\n",
    "\n",
    "# Raster zoom\n",
    "figure(figsize=(10, 3))\n",
    "subplot(211)\n",
    "plot(spikes_e.t/ms, spikes_e.i, 'o', label='E', color='k')\n",
    "ylabel(\"Neuron #\")\n",
    "ylim(0, 200)\n",
    "xlim(t_max * 1000 - 200, t_max * 1000)\n",
    "legend()\n",
    "\n",
    "subplot(212)\n",
    "plot(spikes_i.t/ms, spikes_i.i, 'o', label='I', color='r')\n",
    "xlabel(\"Time (ms)\")\n",
    "ylim(0, 40)\n",
    "xlim(t_max * 1000 - 200, t_max * 1000)\n",
    "\n",
    "# ------------------------------------------------------------\n",
    "# V \n",
    "tn = 2000\n",
    "figure(figsize=(14, 6))\n",
    "subplot(211)\n",
    "plot(traces_e.t[tn:]/ms, traces_e.V[:, tn:].T/mvolt, color='k')\n",
    "# ylim(-90, -50)\n",
    "ylabel(\"V\")\n",
    "legend()\n",
    "\n",
    "subplot(212)\n",
    "plot(traces_i.t[tn:]/ms, traces_i.V[:, tn:].T/mvolt, color='r')\n",
    "xlabel(\"Time (ms)\")\n",
    "legend()\n",
    "\n",
    "# V hist\n",
    "figure(figsize=(6,6))\n",
    "subplot(211)\n",
    "hist(traces_e.V[0][tn:]/mvolt, label='E (V)', color='k', bins=100, range=(-80, -50))\n",
    "xlabel(\"V\")\n",
    "legend()\n",
    "\n",
    "# ------------------------------------------------------------\n",
    "# E rate\n",
    "figure(figsize=(14, 3))\n",
    "plot(pop_e.t[tn:]/ms, pop_e.rate[tn:]/Hz, color='k', label='E rate')\n",
    "ylabel('Rate (Hz)')\n",
    "xlabel(\"Time (ms)\")\n",
    "legend()\n",
    "\n",
    "figure(figsize=(14, 3))\n",
    "plot(pop_stim.t[tn:]/ms, pop_stim.rate[tn:]/Hz, color='k', label='Stim rate')\n",
    "ylabel('Rate (Hz)')\n",
    "xlabel(\"Time (ms)\")\n",
    "legend()\n",
    "\n",
    "# ------------------------------------------------------------\n",
    "figure(figsize=(14, 12))\n",
    "subplot(611)\n",
    "plot(traces_e.t[tn:]/ms, traces_e.g_s[1:20, tn:].T, label='E (g_s)')\n",
    "ylabel(\"E g_s\")\n",
    "\n",
    "subplot(612)\n",
    "plot(traces_e.t[tn:]/ms, traces_e.g_e[1:20, tn:].T, label='E (g_e)')\n",
    "ylabel(\"E g_e\")\n",
    "\n",
    "subplot(613)\n",
    "plot(traces_e.t[tn:]/ms, traces_e.g_i[1:20, tn:].T, label='E (g_i)')\n",
    "ylabel(\"E g_i\")\n",
    "\n",
    "subplot(614)\n",
    "plot(traces_i.t[tn:]/ms, traces_i.g_i[1:20, tn:].T, label='I (g_i)')\n",
    "ylabel(\"I g_i\")\n",
    "# legend(loc='best')\n",
    "\n",
    "subplot(615)\n",
    "plot(traces_e.t[tn:]/ms, traces_e.g_ee[1:20, tn:].T, label='E (g_ee)')\n",
    "ylabel(\"g_ee\")\n",
    "xlabel(\"Time (ms)\")\n",
    "\n",
    "subplot(616)\n",
    "plot(weights.t[tn:]/ms, weights.w_stdp[1:20, tn:].T, label='w_stdp')\n",
    "ylabel(\"Del W\")\n",
    "xlabel(\"Time (ms)\")\n",
    "\n",
    "# # ------------------------------------------------------------\n",
    "# # Spectra\n",
    "# lfp = (np.abs(traces_e.g_s.sum(0)) + np.abs(traces_e.g_ee.sum(0)) + np.abs(traces_e.g_i.sum(0)))\n",
    "# lfp = lfp[1000:]  # Drop initial spike\n",
    "\n",
    "# figure(figsize=(6,6))\n",
    "# subplot(211)\n",
    "# plot(traces_i.t[1000:]/ms, lfp, color='k',  label='LFP')\n",
    "# xlabel(\"Time (ms)\")\n",
    "# ylabel(\"Sim. LFP (msiemens)\")\n",
    "\n",
    "# subplot(212)\n",
    "# fs, spec = create_psd(lfp, 100000)\n",
    "# plot(fs[:60], spec[:60], color='k')\n",
    "# xlabel(\"Freq (Hz)\") \n",
    "# ylabel(\"PSD\")\n",
    "\n",
    "# -----------\n",
    "# stdp\n",
    "figure(figsize=(8,4))\n",
    "subplot(121)\n",
    "plt.hist(result['weights_e'].w_stdp[:,1-1], color='k', bins=50);\n",
    "plt.ylabel(\"Intial w_stdp\")\n",
    "subplot(122)\n",
    "plt.hist(result['weights_e'].w_stdp[:,50000-1], color='k', bins=50);\n",
    "plt.ylim(0,1000)\n",
    "plt.ylabel(\"Final w_stdp\")"
   ]
  },
  {
   "cell_type": "code",
   "execution_count": null,
   "metadata": {
    "collapsed": true
   },
   "outputs": [],
   "source": [
    " "
   ]
  }
 ],
 "metadata": {
  "kernelspec": {
   "display_name": "Python 2",
   "language": "python",
   "name": "python2"
  },
  "language_info": {
   "codemirror_mode": {
    "name": "ipython",
    "version": 2
   },
   "file_extension": ".py",
   "mimetype": "text/x-python",
   "name": "python",
   "nbconvert_exporter": "python",
   "pygments_lexer": "ipython2",
   "version": "2.7.10"
  }
 },
 "nbformat": 4,
 "nbformat_minor": 0
}
