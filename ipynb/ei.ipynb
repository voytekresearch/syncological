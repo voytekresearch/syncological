{
 "cells": [
  {
   "cell_type": "code",
   "execution_count": 1,
   "metadata": {
    "collapsed": false
   },
   "outputs": [
    {
     "data": {
      "application/javascript": [
       "if($(IPython.toolbar.selector.concat(' > #kill-run-all')).length == 0){\n",
       "  IPython.toolbar.add_buttons_group([\n",
       "        {\n",
       "             'label'   : 'kill and run-all',\n",
       "             'icon'    : 'fa fa-angle-double-down',\n",
       "             'callback': function(){\n",
       "                 IPython.notebook.kernel.restart();\n",
       "                 $(IPython.events).one('kernel_ready.Kernel',\n",
       "                                       function(){IPython.notebook.execute_all_cells();});\n",
       "             }\n",
       "        }\n",
       "    ], 'kill-run-all');\n",
       "}"
      ],
      "text/plain": [
       "<IPython.core.display.Javascript object>"
      ]
     },
     "metadata": {},
     "output_type": "display_data"
    }
   ],
   "source": [
    "%%javascript\n",
    "if($(IPython.toolbar.selector.concat(' > #kill-run-all')).length == 0){\n",
    "  IPython.toolbar.add_buttons_group([\n",
    "        {\n",
    "             'label'   : 'kill and run-all',\n",
    "             'icon'    : 'fa fa-angle-double-down',\n",
    "             'callback': function(){\n",
    "                 IPython.notebook.kernel.restart();\n",
    "                 $(IPython.events).one('kernel_ready.Kernel',\n",
    "                                       function(){IPython.notebook.execute_all_cells();});\n",
    "             }\n",
    "        }\n",
    "    ], 'kill-run-all');\n",
    "}"
   ]
  },
  {
   "cell_type": "code",
   "execution_count": 2,
   "metadata": {
    "collapsed": false,
    "scrolled": false
   },
   "outputs": [],
   "source": [
    "# import seaborn as sns\n",
    "import matplotlib.pyplot as plt\n",
    "from foof.util import create_psd\n",
    "%matplotlib inline"
   ]
  },
  {
   "cell_type": "code",
   "execution_count": null,
   "metadata": {
    "collapsed": false,
    "scrolled": true
   },
   "outputs": [
    {
     "name": "stdout",
     "output_type": "stream",
     "text": [
      "Starting simulation for duration 0.5 s\n",
      "95.52 ms (19%) simulated in 10s, estimated 42s remaining.\n",
      "191.12 ms (38%) simulated in 20s, estimated 32s remaining.\n",
      "289.54 ms (57%) simulated in 30s, estimated 22s remaining.\n",
      "0.38144 s (76%) simulated in 40s, estimated 12s remaining.\n",
      "0.48011 s (96%) simulated in 50s, estimated 2s remaining.\n",
      "0.5 s (100%) simulated in 52s\n",
      "Saving results\n",
      "Starting simulation for duration 0.5 s\n",
      "48.14 ms (9%) simulated in 10s, estimated 1m 34s remaining.\n",
      "95.955 ms (19%) simulated in 20s, estimated 1m 24s remaining.\n",
      "145.4 ms (29%) simulated in 30s, estimated 1m 13s remaining.\n",
      "191.65 ms (38%) simulated in 40s, estimated 1m 4s remaining.\n",
      "241.205 ms (48%) simulated in 50s, estimated 54s remaining.\n",
      "0.5 s (100%) simulated in 51s\n",
      "Saving results\n",
      "Starting simulation for duration 0.5 s\n",
      "31.84333333 ms (6%) simulated in 10s, estimated 2m 27s remaining.\n",
      "63.68333333 ms (12%) simulated in 20s, estimated 2m 17s remaining.\n",
      "96.24666667 ms (19%) simulated in 30s, estimated 2m 6s remaining.\n",
      "126.68666667 ms (25%) simulated in 40s, estimated 1m 58s remaining.\n",
      "159.07666667 ms (31%) simulated in 50s, estimated 1m 47s remaining.\n",
      "0.5 s (100%) simulated in 52s\n"
     ]
    },
    {
     "name": "stderr",
     "output_type": "stream",
     "text": [
      "WARNING  py.warnings: /home/ejp/anaconda/lib/python2.7/site-packages/numpy/lib/nanfunctions.py:675: RuntimeWarning: Mean of empty slice\n",
      "  warnings.warn(\"Mean of empty slice\", RuntimeWarning)\n",
      "\n",
      "WARNING:py.warnings:/home/ejp/anaconda/lib/python2.7/site-packages/numpy/lib/nanfunctions.py:675: RuntimeWarning: Mean of empty slice\n",
      "  warnings.warn(\"Mean of empty slice\", RuntimeWarning)\n",
      "\n"
     ]
    },
    {
     "name": "stdout",
     "output_type": "stream",
     "text": [
      "Saving results\n",
      "Starting simulation for duration 0.5 s\n",
      "23.5675 ms (4%) simulated in 10s, estimated 3m 22s remaining.\n",
      "47.005 ms (9%) simulated in 20s, estimated 3m 13s remaining.\n",
      "71.3175 ms (14%) simulated in 30s, estimated 3m 0s remaining.\n",
      "94.0275 ms (18%) simulated in 40s, estimated 2m 53s remaining.\n",
      "118.33 ms (23%) simulated in 50s, estimated 2m 41s remaining.\n",
      "0.5 s (100%) simulated in 52s\n",
      "Saving results\n",
      "Starting simulation for duration 0.5 s\n",
      "18.864 ms (3%) simulated in 10s, estimated 4m 15s remaining.\n",
      "37.628 ms (7%) simulated in 20s, estimated 4m 6s remaining.\n",
      "57.034 ms (11%) simulated in 30s, estimated 3m 53s remaining.\n",
      "75.172 ms (15%) simulated in 40s, estimated 3m 46s remaining.\n",
      "94.718 ms (18%) simulated in 50s, estimated 3m 34s remaining.\n"
     ]
    }
   ],
   "source": [
    "# stim induced\n",
    "%run ../bin/ei.py ../data/test/ \\\n",
    "    -t 15.0 --stim 0.25 --rate 30 --period 0.5 \\\n",
    "    --I_e 0.0 --I_i 0.8 --I_i_sigma 0.0 --I_e_sigma 0.0 \\\n",
    "    --w_e 0.5 --w_ee 0.1 --w_ii 0.5 \\\n",
    "    --w_ei .3 --w_ie 1.2 --stdp"
   ]
  },
  {
   "cell_type": "code",
   "execution_count": 6,
   "metadata": {
    "collapsed": false,
    "scrolled": false
   },
   "outputs": [
    {
     "ename": "NameError",
     "evalue": "name 'result' is not defined",
     "output_type": "error",
     "traceback": [
      "\u001b[1;31m---------------------------------------------------------------------------\u001b[0m",
      "\u001b[1;31mNameError\u001b[0m                                 Traceback (most recent call last)",
      "\u001b[1;32m<ipython-input-6-92f047daa638>\u001b[0m in \u001b[0;36m<module>\u001b[1;34m()\u001b[0m\n\u001b[0;32m      4\u001b[0m \u001b[1;31m# result = results[sel]\u001b[0m\u001b[1;33m\u001b[0m\u001b[1;33m\u001b[0m\u001b[0m\n\u001b[0;32m      5\u001b[0m \u001b[1;33m\u001b[0m\u001b[0m\n\u001b[1;32m----> 6\u001b[1;33m \u001b[0mspikes_e\u001b[0m \u001b[1;33m=\u001b[0m \u001b[0mresult\u001b[0m\u001b[1;33m[\u001b[0m\u001b[1;34m'spikes_e'\u001b[0m\u001b[1;33m]\u001b[0m\u001b[1;33m\u001b[0m\u001b[0m\n\u001b[0m\u001b[0;32m      7\u001b[0m \u001b[0mspikes_stim\u001b[0m \u001b[1;33m=\u001b[0m \u001b[0mresult\u001b[0m\u001b[1;33m[\u001b[0m\u001b[1;34m'spikes_stim'\u001b[0m\u001b[1;33m]\u001b[0m\u001b[1;33m\u001b[0m\u001b[0m\n\u001b[0;32m      8\u001b[0m \u001b[0mspikes_i\u001b[0m \u001b[1;33m=\u001b[0m \u001b[0mresult\u001b[0m\u001b[1;33m[\u001b[0m\u001b[1;34m'spikes_i'\u001b[0m\u001b[1;33m]\u001b[0m\u001b[1;33m\u001b[0m\u001b[0m\n",
      "\u001b[1;31mNameError\u001b[0m: name 'result' is not defined"
     ]
    }
   ],
   "source": [
    "# Unpack\n",
    "period = 0.5\n",
    "sel = 1\n",
    "\n",
    "# result = results[sel]\n",
    "\n",
    "spikes_e = result['spikes_e']\n",
    "spikes_stim = result['spikes_stim']\n",
    "spikes_i = result['spikes_i']\n",
    "pop_e = result['pop_e']\n",
    "pop_stim = result['pop_stim']\n",
    "traces_e = result['traces_e']\n",
    "traces_i = result['traces_i']\n",
    "t = 2000\n",
    "\n",
    "# ------------------------------------------------------------\n",
    "# Raster full\n",
    "t_min = period * sel\n",
    "t_max = t_min + period\n",
    "\n",
    "figure(figsize=(14, 12))\n",
    "subplot(311)\n",
    "plot(spikes_stim.t/ms, spikes_stim.i, 'o', label='', color='k')\n",
    "xlim(t_min * 1000, t_max * 1000)\n",
    "ylabel(\"Neuron #\")\n",
    "legend()\n",
    "\n",
    "subplot(312)\n",
    "plot(spikes_e.t/ms, spikes_e.i, 'o', label='E', color='k')\n",
    "plot(spikes_i.t/ms, spikes_i.i, 'o', label='I', color='r')\n",
    "xlim(t_min * 1000, t_max * 1000)\n",
    "ylabel(\"Neuron #\")\n",
    "legend()\n",
    "\n",
    "\n",
    "# Raster zoom\n",
    "figure(figsize=(10, 3))\n",
    "subplot(211)\n",
    "plot(spikes_e.t/ms, spikes_e.i, 'o', label='E', color='k')\n",
    "ylabel(\"Neuron #\")\n",
    "ylim(0, 200)\n",
    "xlim(t_max * 1000 - 200, t_max * 1000)\n",
    "legend()\n",
    "\n",
    "subplot(212)\n",
    "plot(spikes_i.t/ms, spikes_i.i, 'o', label='I', color='r')\n",
    "xlabel(\"Time (ms)\")\n",
    "ylim(0, 40)\n",
    "xlim(t_max * 1000 - 200, t_max * 1000)\n",
    "\n",
    "# ------------------------------------------------------------\n",
    "# V \n",
    "tn = 2000\n",
    "figure(figsize=(14, 6))\n",
    "subplot(211)\n",
    "plot(traces_e.t[tn:]/ms, traces_e.V[:, tn:].T/mvolt, color='k')\n",
    "# ylim(-90, -50)\n",
    "ylabel(\"V\")\n",
    "legend()\n",
    "\n",
    "subplot(212)\n",
    "plot(traces_i.t[tn:]/ms, traces_i.V[:, tn:].T/mvolt, color='r')\n",
    "xlabel(\"Time (ms)\")\n",
    "legend()\n",
    "\n",
    "# V hist\n",
    "figure(figsize=(6,6))\n",
    "subplot(211)\n",
    "hist(traces_e.V[0][tn:]/mvolt, label='E (V)', color='k', bins=100, range=(-80, -50))\n",
    "xlabel(\"V\")\n",
    "legend()\n",
    "\n",
    "# ------------------------------------------------------------\n",
    "# E rate\n",
    "figure(figsize=(14, 3))\n",
    "plot(pop_e.t[tn:]/ms, pop_e.rate[tn:]/Hz, color='k', label='E rate')\n",
    "ylabel('Rate (Hz)')\n",
    "xlabel(\"Time (ms)\")\n",
    "legend()\n",
    "\n",
    "figure(figsize=(14, 3))\n",
    "plot(pop_stim.t[tn:]/ms, pop_stim.rate[tn:]/Hz, color='k', label='Stim rate')\n",
    "ylabel('Rate (Hz)')\n",
    "xlabel(\"Time (ms)\")\n",
    "legend()\n",
    "\n",
    "# ------------------------------------------------------------\n",
    "figure(figsize=(14, 12))\n",
    "subplot(511)\n",
    "plot(traces_e.t[tn:]/ms, traces_e.g_s[1:20, tn:].T, label='E (g_s)')\n",
    "ylabel(\"E g_s\")\n",
    "\n",
    "subplot(512)\n",
    "plot(traces_e.t[tn:]/ms, traces_e.g_e[1:20, tn:].T, label='E (g_e)')\n",
    "ylabel(\"E g_e\")\n",
    "\n",
    "subplot(513)\n",
    "plot(traces_e.t[tn:]/ms, traces_e.g_i[1:20, tn:].T, label='E (g_i)')\n",
    "ylabel(\"E g_i\")\n",
    "\n",
    "subplot(514)\n",
    "plot(traces_i.t[tn:]/ms, traces_i.g_i[1:20, tn:].T, label='I (g_i)')\n",
    "ylabel(\"I g_i\")\n",
    "# legend(loc='best')\n",
    "\n",
    "subplot(515)\n",
    "plot(traces_e.t[tn:]/ms, traces_e.g_ee[1:20, tn:].T, label='E (g_ee)')\n",
    "ylabel(\"g_ee\")\n",
    "xlabel(\"Time (ms)\")\n",
    "\n",
    "# ------------------------------------------------------------\n",
    "# Spectra\n",
    "lfp = (np.abs(traces_e.g_s.sum(0)) + np.abs(traces_e.g_ee.sum(0)) + np.abs(traces_e.g_i.sum(0)))\n",
    "lfp = lfp[1000:]  # Drop initial spike\n",
    "\n",
    "figure(figsize=(6,6))\n",
    "subplot(211)\n",
    "plot(traces_i.t[1000:]/ms, lfp, color='k',  label='LFP')\n",
    "xlabel(\"Time (ms)\")\n",
    "ylabel(\"Sim. LFP (msiemens)\")\n",
    "\n",
    "subplot(212)\n",
    "fs, spec = create_psd(lfp, 100000)\n",
    "plot(fs[:60], spec[:60], color='k')\n",
    "xlabel(\"Freq (Hz)\") \n",
    "ylabel(\"PSD\")"
   ]
  },
  {
   "cell_type": "markdown",
   "metadata": {
    "collapsed": true
   },
   "source": [
    "# "
   ]
  }
 ],
 "metadata": {
  "kernelspec": {
   "display_name": "Python 2",
   "language": "python",
   "name": "python2"
  },
  "language_info": {
   "codemirror_mode": {
    "name": "ipython",
    "version": 2
   },
   "file_extension": ".py",
   "mimetype": "text/x-python",
   "name": "python",
   "nbconvert_exporter": "python",
   "pygments_lexer": "ipython2",
   "version": "2.7.10"
  }
 },
 "nbformat": 4,
 "nbformat_minor": 0
}
